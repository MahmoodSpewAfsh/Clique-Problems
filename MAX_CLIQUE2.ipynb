{
  "nbformat": 4,
  "nbformat_minor": 0,
  "metadata": {
    "colab": {
      "provenance": []
    },
    "kernelspec": {
      "name": "python3",
      "display_name": "Python 3"
    },
    "language_info": {
      "name": "python"
    }
  },
  "cells": [
    {
      "cell_type": "markdown",
      "source": [
        "# **This Code Is  Same as the code in MAX_CLIQUE but with the log technique**"
      ],
      "metadata": {
        "id": "4bN3ZAA29QoH"
      }
    },
    {
      "cell_type": "code",
      "execution_count": 1,
      "metadata": {
        "colab": {
          "base_uri": "https://localhost:8080/"
        },
        "id": "mzApMJIORJbC",
        "outputId": "e7d7d157-77c0-493c-9e1a-ce8d7184008c"
      },
      "outputs": [
        {
          "output_type": "stream",
          "name": "stdout",
          "text": [
            "Collecting dwave-ocean-sdk\n",
            "  Downloading dwave_ocean_sdk-6.10.0-py3-none-any.whl (8.4 kB)\n",
            "Collecting dimod==0.12.14 (from dwave-ocean-sdk)\n",
            "  Downloading dimod-0.12.14-cp310-cp310-manylinux_2_17_x86_64.manylinux2014_x86_64.whl (18.7 MB)\n",
            "\u001b[2K     \u001b[90m━━━━━━━━━━━━━━━━━━━━━━━━━━━━━━━━━━━━━━━━\u001b[0m \u001b[32m18.7/18.7 MB\u001b[0m \u001b[31m34.4 MB/s\u001b[0m eta \u001b[36m0:00:00\u001b[0m\n",
            "\u001b[?25hCollecting dwave-cloud-client==0.11.4 (from dwave-ocean-sdk)\n",
            "  Downloading dwave_cloud_client-0.11.4-py3-none-any.whl (139 kB)\n",
            "\u001b[2K     \u001b[90m━━━━━━━━━━━━━━━━━━━━━━━━━━━━━━━━━━━━━━━━\u001b[0m \u001b[32m139.2/139.2 kB\u001b[0m \u001b[31m11.0 MB/s\u001b[0m eta \u001b[36m0:00:00\u001b[0m\n",
            "\u001b[?25hCollecting dwave-greedy==0.3.0 (from dwave-ocean-sdk)\n",
            "  Downloading dwave_greedy-0.3.0-py3-none-any.whl (10 kB)\n",
            "Collecting dwave-hybrid==0.6.11 (from dwave-ocean-sdk)\n",
            "  Downloading dwave_hybrid-0.6.11-py3-none-any.whl (77 kB)\n",
            "\u001b[2K     \u001b[90m━━━━━━━━━━━━━━━━━━━━━━━━━━━━━━━━━━━━━━━━\u001b[0m \u001b[32m77.1/77.1 kB\u001b[0m \u001b[31m5.2 MB/s\u001b[0m eta \u001b[36m0:00:00\u001b[0m\n",
            "\u001b[?25hCollecting dwave-inspector==0.5.0 (from dwave-ocean-sdk)\n",
            "  Downloading dwave_inspector-0.5.0-py3-none-any.whl (30 kB)\n",
            "Collecting dwave-neal==0.6.0 (from dwave-ocean-sdk)\n",
            "  Downloading dwave_neal-0.6.0-py3-none-any.whl (8.7 kB)\n",
            "Collecting dwave-networkx==0.8.14 (from dwave-ocean-sdk)\n",
            "  Downloading dwave_networkx-0.8.14-py3-none-any.whl (102 kB)\n",
            "\u001b[2K     \u001b[90m━━━━━━━━━━━━━━━━━━━━━━━━━━━━━━━━━━━━━━━━\u001b[0m \u001b[32m102.4/102.4 kB\u001b[0m \u001b[31m9.1 MB/s\u001b[0m eta \u001b[36m0:00:00\u001b[0m\n",
            "\u001b[?25hCollecting dwave-preprocessing==0.6.5 (from dwave-ocean-sdk)\n",
            "  Downloading dwave_preprocessing-0.6.5-cp310-cp310-manylinux_2_17_x86_64.manylinux2014_x86_64.whl (3.4 MB)\n",
            "\u001b[2K     \u001b[90m━━━━━━━━━━━━━━━━━━━━━━━━━━━━━━━━━━━━━━━━\u001b[0m \u001b[32m3.4/3.4 MB\u001b[0m \u001b[31m42.2 MB/s\u001b[0m eta \u001b[36m0:00:00\u001b[0m\n",
            "\u001b[?25hCollecting dwave-samplers==1.2.0 (from dwave-ocean-sdk)\n",
            "  Downloading dwave_samplers-1.2.0-cp310-cp310-manylinux_2_17_x86_64.manylinux2014_x86_64.whl (6.7 MB)\n",
            "\u001b[2K     \u001b[90m━━━━━━━━━━━━━━━━━━━━━━━━━━━━━━━━━━━━━━━━\u001b[0m \u001b[32m6.7/6.7 MB\u001b[0m \u001b[31m53.8 MB/s\u001b[0m eta \u001b[36m0:00:00\u001b[0m\n",
            "\u001b[?25hCollecting dwave-system==1.24.0 (from dwave-ocean-sdk)\n",
            "  Downloading dwave_system-1.24.0-py3-none-any.whl (105 kB)\n",
            "\u001b[2K     \u001b[90m━━━━━━━━━━━━━━━━━━━━━━━━━━━━━━━━━━━━━━━━\u001b[0m \u001b[32m105.3/105.3 kB\u001b[0m \u001b[31m8.8 MB/s\u001b[0m eta \u001b[36m0:00:00\u001b[0m\n",
            "\u001b[?25hCollecting dwave-tabu==0.5.0 (from dwave-ocean-sdk)\n",
            "  Downloading dwave_tabu-0.5.0-py3-none-any.whl (9.2 kB)\n",
            "Collecting dwavebinarycsp==0.3.0 (from dwave-ocean-sdk)\n",
            "  Downloading dwavebinarycsp-0.3.0-py3-none-any.whl (35 kB)\n",
            "Collecting minorminer==0.2.13 (from dwave-ocean-sdk)\n",
            "  Downloading minorminer-0.2.13-cp310-cp310-manylinux_2_17_x86_64.manylinux2014_x86_64.whl (10.3 MB)\n",
            "\u001b[2K     \u001b[90m━━━━━━━━━━━━━━━━━━━━━━━━━━━━━━━━━━━━━━━━\u001b[0m \u001b[32m10.3/10.3 MB\u001b[0m \u001b[31m54.5 MB/s\u001b[0m eta \u001b[36m0:00:00\u001b[0m\n",
            "\u001b[?25hCollecting penaltymodel==1.1.0 (from dwave-ocean-sdk)\n",
            "  Downloading penaltymodel-1.1.0-py3-none-any.whl (36 kB)\n",
            "Requirement already satisfied: numpy<2.0.0,>=1.17.3 in /usr/local/lib/python3.10/dist-packages (from dimod==0.12.14->dwave-ocean-sdk) (1.25.2)\n",
            "Requirement already satisfied: requests[socks]<3,>=2.25 in /usr/local/lib/python3.10/dist-packages (from dwave-cloud-client==0.11.4->dwave-ocean-sdk) (2.31.0)\n",
            "Requirement already satisfied: urllib3<3,>=1.26 in /usr/local/lib/python3.10/dist-packages (from dwave-cloud-client==0.11.4->dwave-ocean-sdk) (2.0.7)\n",
            "Requirement already satisfied: pydantic<3,>=2 in /usr/local/lib/python3.10/dist-packages (from dwave-cloud-client==0.11.4->dwave-ocean-sdk) (2.7.1)\n",
            "Collecting homebase<2,>=1.0 (from dwave-cloud-client==0.11.4->dwave-ocean-sdk)\n",
            "  Downloading homebase-1.0.1-py2.py3-none-any.whl (11 kB)\n",
            "Requirement already satisfied: click<9,>=7.0 in /usr/local/lib/python3.10/dist-packages (from dwave-cloud-client==0.11.4->dwave-ocean-sdk) (8.1.7)\n",
            "Requirement already satisfied: python-dateutil<3,>=2.7 in /usr/local/lib/python3.10/dist-packages (from dwave-cloud-client==0.11.4->dwave-ocean-sdk) (2.8.2)\n",
            "Collecting plucky<0.5,>=0.4.3 (from dwave-cloud-client==0.11.4->dwave-ocean-sdk)\n",
            "  Downloading plucky-0.4.3-py2.py3-none-any.whl (10 kB)\n",
            "Collecting diskcache<6,>=5.2.1 (from dwave-cloud-client==0.11.4->dwave-ocean-sdk)\n",
            "  Downloading diskcache-5.6.3-py3-none-any.whl (45 kB)\n",
            "\u001b[2K     \u001b[90m━━━━━━━━━━━━━━━━━━━━━━━━━━━━━━━━━━━━━━━━\u001b[0m \u001b[32m45.5/45.5 kB\u001b[0m \u001b[31m2.9 MB/s\u001b[0m eta \u001b[36m0:00:00\u001b[0m\n",
            "\u001b[?25hRequirement already satisfied: packaging>=19 in /usr/local/lib/python3.10/dist-packages (from dwave-cloud-client==0.11.4->dwave-ocean-sdk) (24.0)\n",
            "Requirement already satisfied: werkzeug<4,>=2.2 in /usr/local/lib/python3.10/dist-packages (from dwave-cloud-client==0.11.4->dwave-ocean-sdk) (3.0.3)\n",
            "Requirement already satisfied: typing-extensions<5,>=4.5.0 in /usr/local/lib/python3.10/dist-packages (from dwave-cloud-client==0.11.4->dwave-ocean-sdk) (4.11.0)\n",
            "Collecting authlib<2,>=1.2 (from dwave-cloud-client==0.11.4->dwave-ocean-sdk)\n",
            "  Downloading Authlib-1.3.0-py2.py3-none-any.whl (223 kB)\n",
            "\u001b[2K     \u001b[90m━━━━━━━━━━━━━━━━━━━━━━━━━━━━━━━━━━━━━━━━\u001b[0m \u001b[32m223.7/223.7 kB\u001b[0m \u001b[31m9.2 MB/s\u001b[0m eta \u001b[36m0:00:00\u001b[0m\n",
            "\u001b[?25hRequirement already satisfied: importlib-metadata>=5.0.0 in /usr/local/lib/python3.10/dist-packages (from dwave-cloud-client==0.11.4->dwave-ocean-sdk) (7.1.0)\n",
            "Requirement already satisfied: networkx in /usr/local/lib/python3.10/dist-packages (from dwave-hybrid==0.6.11->dwave-ocean-sdk) (3.3)\n",
            "Requirement already satisfied: Flask<4,>=2.2 in /usr/local/lib/python3.10/dist-packages (from dwave-inspector==0.5.0->dwave-ocean-sdk) (2.2.5)\n",
            "Collecting orjson>=3.10.0 (from dwave-inspector==0.5.0->dwave-ocean-sdk)\n",
            "  Downloading orjson-3.10.3-cp310-cp310-manylinux_2_17_x86_64.manylinux2014_x86_64.whl (142 kB)\n",
            "\u001b[2K     \u001b[90m━━━━━━━━━━━━━━━━━━━━━━━━━━━━━━━━━━━━━━━━\u001b[0m \u001b[32m142.5/142.5 kB\u001b[0m \u001b[31m8.6 MB/s\u001b[0m eta \u001b[36m0:00:00\u001b[0m\n",
            "\u001b[?25hRequirement already satisfied: scipy>=1.7.3 in /usr/local/lib/python3.10/dist-packages (from dwave-system==1.24.0->dwave-ocean-sdk) (1.11.4)\n",
            "Collecting fasteners>=0.15 (from minorminer==0.2.13->dwave-ocean-sdk)\n",
            "  Downloading fasteners-0.19-py3-none-any.whl (18 kB)\n",
            "Collecting rectangle-packer>=2.0.1 (from minorminer==0.2.13->dwave-ocean-sdk)\n",
            "  Downloading rectangle_packer-2.0.2-cp310-cp310-manylinux_2_5_x86_64.manylinux1_x86_64.manylinux_2_17_x86_64.manylinux2014_x86_64.whl (305 kB)\n",
            "\u001b[2K     \u001b[90m━━━━━━━━━━━━━━━━━━━━━━━━━━━━━━━━━━━━━━━━\u001b[0m \u001b[32m305.6/305.6 kB\u001b[0m \u001b[31m19.2 MB/s\u001b[0m eta \u001b[36m0:00:00\u001b[0m\n",
            "\u001b[?25hRequirement already satisfied: cryptography in /usr/local/lib/python3.10/dist-packages (from authlib<2,>=1.2->dwave-cloud-client==0.11.4->dwave-ocean-sdk) (42.0.7)\n",
            "Requirement already satisfied: Jinja2>=3.0 in /usr/local/lib/python3.10/dist-packages (from Flask<4,>=2.2->dwave-inspector==0.5.0->dwave-ocean-sdk) (3.1.4)\n",
            "Requirement already satisfied: itsdangerous>=2.0 in /usr/local/lib/python3.10/dist-packages (from Flask<4,>=2.2->dwave-inspector==0.5.0->dwave-ocean-sdk) (2.2.0)\n",
            "Requirement already satisfied: zipp>=0.5 in /usr/local/lib/python3.10/dist-packages (from importlib-metadata>=5.0.0->dwave-cloud-client==0.11.4->dwave-ocean-sdk) (3.18.2)\n",
            "Requirement already satisfied: annotated-types>=0.4.0 in /usr/local/lib/python3.10/dist-packages (from pydantic<3,>=2->dwave-cloud-client==0.11.4->dwave-ocean-sdk) (0.7.0)\n",
            "Requirement already satisfied: pydantic-core==2.18.2 in /usr/local/lib/python3.10/dist-packages (from pydantic<3,>=2->dwave-cloud-client==0.11.4->dwave-ocean-sdk) (2.18.2)\n",
            "Requirement already satisfied: six>=1.5 in /usr/local/lib/python3.10/dist-packages (from python-dateutil<3,>=2.7->dwave-cloud-client==0.11.4->dwave-ocean-sdk) (1.16.0)\n",
            "Requirement already satisfied: charset-normalizer<4,>=2 in /usr/local/lib/python3.10/dist-packages (from requests[socks]<3,>=2.25->dwave-cloud-client==0.11.4->dwave-ocean-sdk) (3.3.2)\n",
            "Requirement already satisfied: idna<4,>=2.5 in /usr/local/lib/python3.10/dist-packages (from requests[socks]<3,>=2.25->dwave-cloud-client==0.11.4->dwave-ocean-sdk) (3.7)\n",
            "Requirement already satisfied: certifi>=2017.4.17 in /usr/local/lib/python3.10/dist-packages (from requests[socks]<3,>=2.25->dwave-cloud-client==0.11.4->dwave-ocean-sdk) (2024.2.2)\n",
            "Requirement already satisfied: PySocks!=1.5.7,>=1.5.6 in /usr/local/lib/python3.10/dist-packages (from requests[socks]<3,>=2.25->dwave-cloud-client==0.11.4->dwave-ocean-sdk) (1.7.1)\n",
            "Requirement already satisfied: MarkupSafe>=2.1.1 in /usr/local/lib/python3.10/dist-packages (from werkzeug<4,>=2.2->dwave-cloud-client==0.11.4->dwave-ocean-sdk) (2.1.5)\n",
            "Requirement already satisfied: cffi>=1.12 in /usr/local/lib/python3.10/dist-packages (from cryptography->authlib<2,>=1.2->dwave-cloud-client==0.11.4->dwave-ocean-sdk) (1.16.0)\n",
            "Requirement already satisfied: pycparser in /usr/local/lib/python3.10/dist-packages (from cffi>=1.12->cryptography->authlib<2,>=1.2->dwave-cloud-client==0.11.4->dwave-ocean-sdk) (2.22)\n",
            "Installing collected packages: rectangle-packer, plucky, homebase, orjson, fasteners, diskcache, dimod, penaltymodel, dwave-samplers, dwave-preprocessing, dwave-networkx, minorminer, dwavebinarycsp, dwave-tabu, dwave-neal, dwave-greedy, authlib, dwave-cloud-client, dwave-system, dwave-inspector, dwave-hybrid, dwave-ocean-sdk\n",
            "Successfully installed authlib-1.3.0 dimod-0.12.14 diskcache-5.6.3 dwave-cloud-client-0.11.4 dwave-greedy-0.3.0 dwave-hybrid-0.6.11 dwave-inspector-0.5.0 dwave-neal-0.6.0 dwave-networkx-0.8.14 dwave-ocean-sdk-6.10.0 dwave-preprocessing-0.6.5 dwave-samplers-1.2.0 dwave-system-1.24.0 dwave-tabu-0.5.0 dwavebinarycsp-0.3.0 fasteners-0.19 homebase-1.0.1 minorminer-0.2.13 orjson-3.10.3 penaltymodel-1.1.0 plucky-0.4.3 rectangle-packer-2.0.2\n"
          ]
        }
      ],
      "source": [
        "!pip install dwave-ocean-sdk"
      ]
    },
    {
      "cell_type": "code",
      "source": [
        "import numpy as np\n",
        "from dwave.system import DWaveSampler, EmbeddingComposite\n",
        "from dimod import BinaryQuadraticModel\n",
        "\n",
        "def get_hamiltonian_terms(N, edges, A, B, C):\n",
        "    Q = {}\n",
        "    M = int(np.floor(np.log2(N)))\n",
        "    # H_A terms\n",
        "\n",
        "\n",
        "    for i in range(0, M):\n",
        "        Q[(f'y_{i}', f'y_{i}')] = A * (2**i)\n",
        "        for j in range(i + 1, M):\n",
        "            Q[(f'y_{i}', f'y_{j}')] = 2 * A * (2**(i+j))\n",
        "\n",
        "\n",
        "    Q[(f'y_{M}', f'y_{M}')] = A * (N + 1 - 2**M)**2\n",
        "\n",
        "\n",
        "    for i in range(0, M):\n",
        "      Q[(f'y_{i}', f'y_{M}')] = A * (2**i) * 2 * (N+1-2**M)\n",
        "\n",
        "\n",
        "    for v in range(N):\n",
        "        Q[(f'x_{v}', f'x_{v}')] = A\n",
        "        for u in range(v+1,N):\n",
        "          Q[(f'x_{v}', f'x_{u}')] =  -2 * A\n",
        "        for i in range(0, M):\n",
        "            Q[(f'y_{i}', f'x_{v}')] = - A * 2**i\n",
        "\n",
        "\n",
        "    for v in range(0, N):\n",
        "          Q[(f'y_{M}', f'x_{v}')] = - A * 2 * (N+1-2**M)\n",
        "\n",
        "    # H_B terms\n",
        "    for u, v in edges:\n",
        "        Q[(f'x_{u}', f'x_{v}')] = - 2 * B\n",
        "    for i in range(0, M):\n",
        "        Q[(f'y_{i}', f'y_{i}')] += B * (2**(2*i)-2**i)/2\n",
        "        for j in range(i + 1, M):\n",
        "            Q[(f'y_{i}', f'y_{j}')] += B * (2**(i+j))\n",
        "    for v in range(0, M):\n",
        "          Q[(f'y_{v}', f'y_{M}')] += - A * 2 * (N+1-2**M) * (2**v)\n",
        "    Q[(f'y_{M}', f'y_{M}')] += B * ((N + 1 - 2**M)**2 - (N + 1 - 2**M))\n",
        "\n",
        "    # H_C terms\n",
        "    for v in range(N):\n",
        "        Q[(f'x_{v}', f'x_{v}')] -= C\n",
        "\n",
        "    return Q"
      ],
      "metadata": {
        "id": "N4Aps0SzRTv7"
      },
      "execution_count": 20,
      "outputs": []
    },
    {
      "cell_type": "code",
      "source": [
        "#Using Dwave Quantum Computer to solve the QUBO problem\n",
        "token = 'DEV-abdc4c7339474eacea7a99b9e4269e22f667d3f2'\n",
        "solver = 'Advantage_system6.4'"
      ],
      "metadata": {
        "id": "sPIkYDbA8bLu"
      },
      "execution_count": 9,
      "outputs": []
    },
    {
      "cell_type": "code",
      "source": [
        "def find_largest_clique(graph, A, B, C):\n",
        "    N = len(graph)\n",
        "    edges = [(i, j) for i in range(N) for j in range(i + 1, N) if graph[i][j] == 1]\n",
        "\n",
        "    # Get the QUBO terms\n",
        "    Q = get_hamiltonian_terms(N, edges, A, B, C)\n",
        "    print(Q)\n",
        "    # Create a binary quadratic model\n",
        "    bqm = BinaryQuadraticModel.from_qubo(Q)\n",
        "    print(bqm)\n",
        "    # Use D-Wave's quantum annealer\n",
        "    sampler = EmbeddingComposite(DWaveSampler(token= token, solver = solver))\n",
        "    sampleset = sampler.sample(bqm, num_reads=100)\n",
        "    # print(sampleset)\n",
        "\n",
        "    # Extract the best solution\n",
        "    best_sample = sampleset.first.sample\n",
        "    print(best_sample)\n",
        "    largest_clique = [int(key.split('_')[1]) for key, value in best_sample.items() if key.startswith('x') and value == 1]\n",
        "\n",
        "    return largest_clique, best_sample"
      ],
      "metadata": {
        "id": "XJmaDTujTTqA"
      },
      "execution_count": 10,
      "outputs": []
    },
    {
      "cell_type": "code",
      "source": [
        "\n",
        "# Example graph (adjacency matrix)\n",
        "graph = [\n",
        "    [0, 1, 1, 0, 0],\n",
        "    [1, 0, 1, 1, 0],\n",
        "    [1, 1, 0, 1, 1],\n",
        "    [0, 1, 1, 0, 1],\n",
        "    [0, 0, 1, 1, 0]\n",
        "]\n",
        "\n",
        "# Constants\n",
        "A = 18\n",
        "B = 2\n",
        "C = 2\n",
        "\n",
        "# Find the largest clique\n",
        "largest_clique, best_sample = find_largest_clique(graph, A, B, C)\n",
        "print(\"Largest Clique:\", largest_clique)\n",
        "print(\"Sample:\", best_sample)"
      ],
      "metadata": {
        "colab": {
          "base_uri": "https://localhost:8080/"
        },
        "id": "hPieIe1qTXQC",
        "outputId": "a4854596-c9b0-40c2-f92d-05fc07dfccd8"
      },
      "execution_count": 21,
      "outputs": [
        {
          "output_type": "stream",
          "name": "stdout",
          "text": [
            "{('y_0', 'y_0'): 18.0, ('y_0', 'y_1'): 76, ('y_1', 'y_1'): 38.0, ('y_2', 'y_2'): 76, ('y_0', 'y_2'): 0, ('y_1', 'y_2'): 0, ('x_0', 'x_0'): 16, ('x_0', 'x_1'): -4, ('x_0', 'x_2'): -4, ('x_0', 'x_3'): -36, ('x_0', 'x_4'): -36, ('y_0', 'x_0'): -18, ('y_1', 'x_0'): -36, ('x_1', 'x_1'): 16, ('x_1', 'x_2'): -4, ('x_1', 'x_3'): -4, ('x_1', 'x_4'): -36, ('y_0', 'x_1'): -18, ('y_1', 'x_1'): -36, ('x_2', 'x_2'): 16, ('x_2', 'x_3'): -4, ('x_2', 'x_4'): -4, ('y_0', 'x_2'): -18, ('y_1', 'x_2'): -36, ('x_3', 'x_3'): 16, ('x_3', 'x_4'): -4, ('y_0', 'x_3'): -18, ('y_1', 'x_3'): -36, ('x_4', 'x_4'): 16, ('y_0', 'x_4'): -18, ('y_1', 'x_4'): -36, ('y_2', 'x_0'): -72, ('y_2', 'x_1'): -72, ('y_2', 'x_2'): -72, ('y_2', 'x_3'): -72, ('y_2', 'x_4'): -72}\n",
            "BinaryQuadraticModel({'y_0': 18.0, 'y_1': 38.0, 'y_2': 76.0, 'x_0': 16.0, 'x_1': 16.0, 'x_2': 16.0, 'x_3': 16.0, 'x_4': 16.0}, {('y_1', 'y_0'): 76.0, ('y_2', 'y_0'): 0.0, ('y_2', 'y_1'): 0.0, ('x_0', 'y_0'): -18.0, ('x_0', 'y_1'): -36.0, ('x_0', 'y_2'): -72.0, ('x_1', 'y_0'): -18.0, ('x_1', 'y_1'): -36.0, ('x_1', 'y_2'): -72.0, ('x_1', 'x_0'): -4.0, ('x_2', 'y_0'): -18.0, ('x_2', 'y_1'): -36.0, ('x_2', 'y_2'): -72.0, ('x_2', 'x_0'): -4.0, ('x_2', 'x_1'): -4.0, ('x_3', 'y_0'): -18.0, ('x_3', 'y_1'): -36.0, ('x_3', 'y_2'): -72.0, ('x_3', 'x_0'): -36.0, ('x_3', 'x_1'): -4.0, ('x_3', 'x_2'): -4.0, ('x_4', 'y_0'): -18.0, ('x_4', 'y_1'): -36.0, ('x_4', 'y_2'): -72.0, ('x_4', 'x_0'): -36.0, ('x_4', 'x_1'): -36.0, ('x_4', 'x_2'): -4.0, ('x_4', 'x_3'): -4.0}, 0.0, 'BINARY')\n",
            "{'x_0': 1, 'x_1': 1, 'x_2': 1, 'x_3': 1, 'x_4': 1, 'y_0': 0, 'y_1': 1, 'y_2': 1}\n",
            "Largest Clique: [0, 1, 2, 3, 4]\n",
            "Sample: {'x_0': 1, 'x_1': 1, 'x_2': 1, 'x_3': 1, 'x_4': 1, 'y_0': 0, 'y_1': 1, 'y_2': 1}\n"
          ]
        }
      ]
    },
    {
      "cell_type": "code",
      "source": [
        "import networkx as nx\n",
        "import matplotlib.pyplot as plt"
      ],
      "metadata": {
        "id": "w3rKKCupTZY0"
      },
      "execution_count": 1,
      "outputs": []
    },
    {
      "cell_type": "code",
      "source": [
        "def plot_graph_with_clique(graph, largest_clique):\n",
        "    G = nx.Graph()\n",
        "    N = len(graph)\n",
        "\n",
        "    # Add nodes\n",
        "    for i in range(N):\n",
        "        G.add_node(i)\n",
        "\n",
        "    # Add edges\n",
        "    for i in range(N):\n",
        "        for j in range(i + 1, N):\n",
        "            if graph[i][j] == 1:\n",
        "                G.add_edge(i, j)\n",
        "\n",
        "    # Set colors: red for clique nodes, blue for others\n",
        "    node_colors = ['red' if node in largest_clique else 'blue' for node in G.nodes()]\n",
        "\n",
        "    # Set sizes: larger size for clique nodes\n",
        "    node_sizes = [300 if node in largest_clique else 100 for node in G.nodes()]\n",
        "\n",
        "    # Draw the graph\n",
        "    pos = nx.spring_layout(G)\n",
        "    nx.draw(G, pos, with_labels=True, node_color=node_colors, node_size=node_sizes, edge_color='gray', font_weight='bold')\n",
        "\n",
        "    # Highlight the largest clique with a different color for edges\n",
        "    clique_edges = [(i, j) for i in largest_clique for j in largest_clique if i < j and graph[i][j] == 1]\n",
        "    nx.draw_networkx_edges(G, pos, edgelist=clique_edges, edge_color='red', width=2)\n",
        "\n",
        "    plt.title(\"Graph with Largest Clique Highlighted with red\")\n",
        "    plt.show()\n",
        "\n",
        "# Plot the graph with the largest clique highlighted\n",
        "plot_graph_with_clique(graph, largest_clique)\n"
      ],
      "metadata": {
        "colab": {
          "base_uri": "https://localhost:8080/",
          "height": 539
        },
        "id": "MSYV92VCTdPh",
        "outputId": "e5a8b283-a754-4b2e-f5b7-43da12375382"
      },
      "execution_count": 5,
      "outputs": [
        {
          "output_type": "display_data",
          "data": {
            "text/plain": [
              "<Figure size 640x480 with 1 Axes>"
            ],
            "image/png": "[encoded data removed]"
          },
          "metadata": {}
        }
      ]
    }
  ]
}