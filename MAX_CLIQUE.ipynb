{
  "nbformat": 4,
  "nbformat_minor": 0,
  "metadata": {
    "colab": {
      "provenance": []
    },
    "kernelspec": {
      "name": "python3",
      "display_name": "Python 3"
    },
    "language_info": {
      "name": "python"
    }
  },
  "cells": [
    {
      "cell_type": "markdown",
      "source": [
        "**Installing Dwave Package**"
      ],
      "metadata": {
        "id": "61Vc60aX6mML"
      }
    },
    {
      "cell_type": "code",
      "execution_count": 4,
      "metadata": {
        "colab": {
          "base_uri": "https://localhost:8080/"
        },
        "id": "aQfgAi3NfGjh",
        "outputId": "ac474fc6-f35f-45eb-dce9-5c3c2c36936f"
      },
      "outputs": [
        {
          "output_type": "stream",
          "name": "stdout",
          "text": [
            "Requirement already satisfied: dwave-ocean-sdk in /usr/local/lib/python3.10/dist-packages (6.10.0)\n",
            "Requirement already satisfied: dimod==0.12.14 in /usr/local/lib/python3.10/dist-packages (from dwave-ocean-sdk) (0.12.14)\n",
            "Requirement already satisfied: dwave-cloud-client==0.11.4 in /usr/local/lib/python3.10/dist-packages (from dwave-ocean-sdk) (0.11.4)\n",
            "Requirement already satisfied: dwave-greedy==0.3.0 in /usr/local/lib/python3.10/dist-packages (from dwave-ocean-sdk) (0.3.0)\n",
            "Requirement already satisfied: dwave-hybrid==0.6.11 in /usr/local/lib/python3.10/dist-packages (from dwave-ocean-sdk) (0.6.11)\n",
            "Requirement already satisfied: dwave-inspector==0.5.0 in /usr/local/lib/python3.10/dist-packages (from dwave-ocean-sdk) (0.5.0)\n",
            "Requirement already satisfied: dwave-neal==0.6.0 in /usr/local/lib/python3.10/dist-packages (from dwave-ocean-sdk) (0.6.0)\n",
            "Requirement already satisfied: dwave-networkx==0.8.14 in /usr/local/lib/python3.10/dist-packages (from dwave-ocean-sdk) (0.8.14)\n",
            "Requirement already satisfied: dwave-preprocessing==0.6.5 in /usr/local/lib/python3.10/dist-packages (from dwave-ocean-sdk) (0.6.5)\n",
            "Requirement already satisfied: dwave-samplers==1.2.0 in /usr/local/lib/python3.10/dist-packages (from dwave-ocean-sdk) (1.2.0)\n",
            "Requirement already satisfied: dwave-system==1.24.0 in /usr/local/lib/python3.10/dist-packages (from dwave-ocean-sdk) (1.24.0)\n",
            "Requirement already satisfied: dwave-tabu==0.5.0 in /usr/local/lib/python3.10/dist-packages (from dwave-ocean-sdk) (0.5.0)\n",
            "Requirement already satisfied: dwavebinarycsp==0.3.0 in /usr/local/lib/python3.10/dist-packages (from dwave-ocean-sdk) (0.3.0)\n",
            "Requirement already satisfied: minorminer==0.2.13 in /usr/local/lib/python3.10/dist-packages (from dwave-ocean-sdk) (0.2.13)\n",
            "Requirement already satisfied: penaltymodel==1.1.0 in /usr/local/lib/python3.10/dist-packages (from dwave-ocean-sdk) (1.1.0)\n",
            "Requirement already satisfied: numpy<2.0.0,>=1.17.3 in /usr/local/lib/python3.10/dist-packages (from dimod==0.12.14->dwave-ocean-sdk) (1.25.2)\n",
            "Requirement already satisfied: requests[socks]<3,>=2.25 in /usr/local/lib/python3.10/dist-packages (from dwave-cloud-client==0.11.4->dwave-ocean-sdk) (2.31.0)\n",
            "Requirement already satisfied: urllib3<3,>=1.26 in /usr/local/lib/python3.10/dist-packages (from dwave-cloud-client==0.11.4->dwave-ocean-sdk) (2.0.7)\n",
            "Requirement already satisfied: pydantic<3,>=2 in /usr/local/lib/python3.10/dist-packages (from dwave-cloud-client==0.11.4->dwave-ocean-sdk) (2.7.1)\n",
            "Requirement already satisfied: homebase<2,>=1.0 in /usr/local/lib/python3.10/dist-packages (from dwave-cloud-client==0.11.4->dwave-ocean-sdk) (1.0.1)\n",
            "Requirement already satisfied: click<9,>=7.0 in /usr/local/lib/python3.10/dist-packages (from dwave-cloud-client==0.11.4->dwave-ocean-sdk) (8.1.7)\n",
            "Requirement already satisfied: python-dateutil<3,>=2.7 in /usr/local/lib/python3.10/dist-packages (from dwave-cloud-client==0.11.4->dwave-ocean-sdk) (2.8.2)\n",
            "Requirement already satisfied: plucky<0.5,>=0.4.3 in /usr/local/lib/python3.10/dist-packages (from dwave-cloud-client==0.11.4->dwave-ocean-sdk) (0.4.3)\n",
            "Requirement already satisfied: diskcache<6,>=5.2.1 in /usr/local/lib/python3.10/dist-packages (from dwave-cloud-client==0.11.4->dwave-ocean-sdk) (5.6.3)\n",
            "Requirement already satisfied: packaging>=19 in /usr/local/lib/python3.10/dist-packages (from dwave-cloud-client==0.11.4->dwave-ocean-sdk) (24.0)\n",
            "Requirement already satisfied: werkzeug<4,>=2.2 in /usr/local/lib/python3.10/dist-packages (from dwave-cloud-client==0.11.4->dwave-ocean-sdk) (3.0.3)\n",
            "Requirement already satisfied: typing-extensions<5,>=4.5.0 in /usr/local/lib/python3.10/dist-packages (from dwave-cloud-client==0.11.4->dwave-ocean-sdk) (4.11.0)\n",
            "Requirement already satisfied: authlib<2,>=1.2 in /usr/local/lib/python3.10/dist-packages (from dwave-cloud-client==0.11.4->dwave-ocean-sdk) (1.3.0)\n",
            "Requirement already satisfied: importlib-metadata>=5.0.0 in /usr/local/lib/python3.10/dist-packages (from dwave-cloud-client==0.11.4->dwave-ocean-sdk) (7.1.0)\n",
            "Requirement already satisfied: networkx in /usr/local/lib/python3.10/dist-packages (from dwave-hybrid==0.6.11->dwave-ocean-sdk) (3.3)\n",
            "Requirement already satisfied: Flask<4,>=2.2 in /usr/local/lib/python3.10/dist-packages (from dwave-inspector==0.5.0->dwave-ocean-sdk) (2.2.5)\n",
            "Requirement already satisfied: orjson>=3.10.0 in /usr/local/lib/python3.10/dist-packages (from dwave-inspector==0.5.0->dwave-ocean-sdk) (3.10.3)\n",
            "Requirement already satisfied: scipy>=1.7.3 in /usr/local/lib/python3.10/dist-packages (from dwave-system==1.24.0->dwave-ocean-sdk) (1.11.4)\n",
            "Requirement already satisfied: fasteners>=0.15 in /usr/local/lib/python3.10/dist-packages (from minorminer==0.2.13->dwave-ocean-sdk) (0.19)\n",
            "Requirement already satisfied: rectangle-packer>=2.0.1 in /usr/local/lib/python3.10/dist-packages (from minorminer==0.2.13->dwave-ocean-sdk) (2.0.2)\n",
            "Requirement already satisfied: cryptography in /usr/local/lib/python3.10/dist-packages (from authlib<2,>=1.2->dwave-cloud-client==0.11.4->dwave-ocean-sdk) (42.0.7)\n",
            "Requirement already satisfied: Jinja2>=3.0 in /usr/local/lib/python3.10/dist-packages (from Flask<4,>=2.2->dwave-inspector==0.5.0->dwave-ocean-sdk) (3.1.4)\n",
            "Requirement already satisfied: itsdangerous>=2.0 in /usr/local/lib/python3.10/dist-packages (from Flask<4,>=2.2->dwave-inspector==0.5.0->dwave-ocean-sdk) (2.2.0)\n",
            "Requirement already satisfied: zipp>=0.5 in /usr/local/lib/python3.10/dist-packages (from importlib-metadata>=5.0.0->dwave-cloud-client==0.11.4->dwave-ocean-sdk) (3.18.2)\n",
            "Requirement already satisfied: annotated-types>=0.4.0 in /usr/local/lib/python3.10/dist-packages (from pydantic<3,>=2->dwave-cloud-client==0.11.4->dwave-ocean-sdk) (0.7.0)\n",
            "Requirement already satisfied: pydantic-core==2.18.2 in /usr/local/lib/python3.10/dist-packages (from pydantic<3,>=2->dwave-cloud-client==0.11.4->dwave-ocean-sdk) (2.18.2)\n",
            "Requirement already satisfied: six>=1.5 in /usr/local/lib/python3.10/dist-packages (from python-dateutil<3,>=2.7->dwave-cloud-client==0.11.4->dwave-ocean-sdk) (1.16.0)\n",
            "Requirement already satisfied: charset-normalizer<4,>=2 in /usr/local/lib/python3.10/dist-packages (from requests[socks]<3,>=2.25->dwave-cloud-client==0.11.4->dwave-ocean-sdk) (3.3.2)\n",
            "Requirement already satisfied: idna<4,>=2.5 in /usr/local/lib/python3.10/dist-packages (from requests[socks]<3,>=2.25->dwave-cloud-client==0.11.4->dwave-ocean-sdk) (3.7)\n",
            "Requirement already satisfied: certifi>=2017.4.17 in /usr/local/lib/python3.10/dist-packages (from requests[socks]<3,>=2.25->dwave-cloud-client==0.11.4->dwave-ocean-sdk) (2024.2.2)\n",
            "Requirement already satisfied: PySocks!=1.5.7,>=1.5.6 in /usr/local/lib/python3.10/dist-packages (from requests[socks]<3,>=2.25->dwave-cloud-client==0.11.4->dwave-ocean-sdk) (1.7.1)\n",
            "Requirement already satisfied: MarkupSafe>=2.1.1 in /usr/local/lib/python3.10/dist-packages (from werkzeug<4,>=2.2->dwave-cloud-client==0.11.4->dwave-ocean-sdk) (2.1.5)\n",
            "Requirement already satisfied: cffi>=1.12 in /usr/local/lib/python3.10/dist-packages (from cryptography->authlib<2,>=1.2->dwave-cloud-client==0.11.4->dwave-ocean-sdk) (1.16.0)\n",
            "Requirement already satisfied: pycparser in /usr/local/lib/python3.10/dist-packages (from cffi>=1.12->cryptography->authlib<2,>=1.2->dwave-cloud-client==0.11.4->dwave-ocean-sdk) (2.22)\n"
          ]
        }
      ],
      "source": [
        "!pip install dwave-ocean-sdk"
      ]
    },
    {
      "cell_type": "markdown",
      "source": [
        "# **Making QUBO TERMS in DICT form**"
      ],
      "metadata": {
        "id": "8tQuwi866x98"
      }
    },
    {
      "cell_type": "code",
      "source": [
        "import numpy as np # for mathematical things\n",
        "from dwave.system import DWaveSampler, EmbeddingComposite # to use Dwave just like before\n",
        "from dimod import BinaryQuadraticModel # for the implementation of the by Quantum Annealer\n",
        "# the function generates the hamiltonian qubo terms based on what discussed in the pdf that has been sent\n",
        "def get_hamiltonian_terms(N, edges, A, B, C):\n",
        "    Q = {}\n",
        "\n",
        "    # H_A terms\n",
        "    for i in range(2, N + 1):\n",
        "        Q[(f'y_{i}', f'y_{i}')] = A * (i**2 -1)\n",
        "        for j in range(i + 1, N + 1):\n",
        "            Q[(f'y_{i}', f'y_{j}')] = 2 * A * (1 + i * j)\n",
        "\n",
        "    for v in range(N):\n",
        "        Q[(f'x_{v}', f'x_{v}')] = A\n",
        "        for u in range(v+1,N):\n",
        "          Q[(f'x_{v}', f'x_{u}')] =  2 * A\n",
        "        for i in range(2, N + 1):\n",
        "            Q[(f'y_{i}', f'x_{v}')] = - A * i\n",
        "\n",
        "    # H_B terms\n",
        "    for u, v in edges:\n",
        "        Q[(f'x_{u}', f'x_{v}')] = - 2 * B\n",
        "    for i in range(2, N + 1):\n",
        "        Q[(f'y_{i}', f'y_{i}')] += B * (i**2 -i)/2\n",
        "        for j in range(i + 1, N + 1):\n",
        "            Q[(f'y_{i}', f'y_{j}')] += B * (i * j)\n",
        "\n",
        "    # H_C terms\n",
        "    for v in range(N):\n",
        "        Q[(f'x_{v}', f'x_{v}')] -= C\n",
        "\n",
        "    return Q"
      ],
      "metadata": {
        "id": "n4cdbhHkiulD"
      },
      "execution_count": 75,
      "outputs": []
    },
    {
      "cell_type": "code",
      "source": [
        "#Using Dwave Quantum Computer to solve the QUBO problem\n",
        "token = 'DEV-abdc4c7339474eacea7a99b9e4269e22f667d3f2'\n",
        "solver = 'Advantage_system6.4'"
      ],
      "metadata": {
        "id": "IAH-jk-ew46y"
      },
      "execution_count": 8,
      "outputs": []
    },
    {
      "cell_type": "code",
      "source": [
        "from dimod import BinaryQuadraticModel\n",
        "from dwave.system import EmbeddingComposite, DWaveSampler"
      ],
      "metadata": {
        "id": "xUQ1jAyNxHwv"
      },
      "execution_count": 9,
      "outputs": []
    },
    {
      "cell_type": "markdown",
      "source": [
        "# **Function to Sample the Cliques**"
      ],
      "metadata": {
        "id": "UliYPDxm67GO"
      }
    },
    {
      "cell_type": "code",
      "source": [
        "def find_largest_clique(graph, A, B, C):\n",
        "    N = len(graph)\n",
        "    edges = [(i, j) for i in range(N) for j in range(i + 1, N) if graph[i][j] == 1]\n",
        "\n",
        "    # Get the QUBO terms\n",
        "    Q = get_hamiltonian_terms(N, edges, A, B, C)\n",
        "    print(Q)\n",
        "    # Create a binary quadratic model\n",
        "    bqm = BinaryQuadraticModel.from_qubo(Q)\n",
        "    print(bqm)\n",
        "    # Use D-Wave's quantum annealer\n",
        "    sampler = EmbeddingComposite(DWaveSampler(token= token, solver = solver))\n",
        "    sampleset = sampler.sample(bqm, num_reads=100)\n",
        "    # print(sampleset)\n",
        "\n",
        "    # Extract the best solution\n",
        "    best_sample = sampleset.first.sample\n",
        "    print(best_sample)\n",
        "    largest_clique = [int(key.split('_')[1]) for key, value in best_sample.items() if key.startswith('x') and value == 1]\n",
        "\n",
        "    return largest_clique, best_sample"
      ],
      "metadata": {
        "id": "qNmZl6NBizwb"
      },
      "execution_count": 77,
      "outputs": []
    },
    {
      "cell_type": "markdown",
      "source": [
        "# Implementaition on a example"
      ],
      "metadata": {
        "id": "Q9s0cY457Ggr"
      }
    },
    {
      "cell_type": "code",
      "source": [
        "\n",
        "# Example graph (adjacency matrix)\n",
        "graph = [\n",
        "    [0, 1, 1, 0, 0],\n",
        "    [1, 0, 1, 1, 0],\n",
        "    [1, 1, 0, 1, 1],\n",
        "    [0, 1, 1, 0, 1],\n",
        "    [0, 0, 1, 1, 0]\n",
        "]\n",
        "\n",
        "# Constants\n",
        "A = 18\n",
        "B = 2\n",
        "C = 2\n",
        "\n",
        "# Find the largest clique\n",
        "largest_clique, best_sample = find_largest_clique(graph, A, B, C)\n",
        "print(\"Largest Clique:\", largest_clique)\n",
        "print(\"Sample:\", best_sample)"
      ],
      "metadata": {
        "colab": {
          "base_uri": "https://localhost:8080/"
        },
        "id": "gYKTEUyY0G0R",
        "outputId": "22581a4e-4dae-4cca-a6a3-dc2a61a01fbb"
      },
      "execution_count": 78,
      "outputs": [
        {
          "output_type": "stream",
          "name": "stdout",
          "text": [
            "{('y_2', 'y_2'): 56.0, ('y_2', 'y_3'): 264, ('y_2', 'y_4'): 340, ('y_2', 'y_5'): 416, ('y_3', 'y_3'): 150.0, ('y_3', 'y_4'): 492, ('y_3', 'y_5'): 606, ('y_4', 'y_4'): 282.0, ('y_4', 'y_5'): 796, ('y_5', 'y_5'): 452.0, ('x_0', 'x_0'): 16, ('x_0', 'x_1'): -4, ('x_0', 'x_2'): -4, ('x_0', 'x_3'): 36, ('x_0', 'x_4'): 36, ('y_2', 'x_0'): -36, ('y_3', 'x_0'): -54, ('y_4', 'x_0'): -72, ('y_5', 'x_0'): -90, ('x_1', 'x_1'): 16, ('x_1', 'x_2'): -4, ('x_1', 'x_3'): -4, ('x_1', 'x_4'): 36, ('y_2', 'x_1'): -36, ('y_3', 'x_1'): -54, ('y_4', 'x_1'): -72, ('y_5', 'x_1'): -90, ('x_2', 'x_2'): 16, ('x_2', 'x_3'): -4, ('x_2', 'x_4'): -4, ('y_2', 'x_2'): -36, ('y_3', 'x_2'): -54, ('y_4', 'x_2'): -72, ('y_5', 'x_2'): -90, ('x_3', 'x_3'): 16, ('x_3', 'x_4'): -4, ('y_2', 'x_3'): -36, ('y_3', 'x_3'): -54, ('y_4', 'x_3'): -72, ('y_5', 'x_3'): -90, ('x_4', 'x_4'): 16, ('y_2', 'x_4'): -36, ('y_3', 'x_4'): -54, ('y_4', 'x_4'): -72, ('y_5', 'x_4'): -90}\n",
            "BinaryQuadraticModel({'y_2': 56.0, 'y_3': 150.0, 'y_4': 282.0, 'y_5': 452.0, 'x_0': 16.0, 'x_1': 16.0, 'x_2': 16.0, 'x_3': 16.0, 'x_4': 16.0}, {('y_3', 'y_2'): 264.0, ('y_4', 'y_2'): 340.0, ('y_4', 'y_3'): 492.0, ('y_5', 'y_2'): 416.0, ('y_5', 'y_3'): 606.0, ('y_5', 'y_4'): 796.0, ('x_0', 'y_2'): -36.0, ('x_0', 'y_3'): -54.0, ('x_0', 'y_4'): -72.0, ('x_0', 'y_5'): -90.0, ('x_1', 'y_2'): -36.0, ('x_1', 'y_3'): -54.0, ('x_1', 'y_4'): -72.0, ('x_1', 'y_5'): -90.0, ('x_1', 'x_0'): -4.0, ('x_2', 'y_2'): -36.0, ('x_2', 'y_3'): -54.0, ('x_2', 'y_4'): -72.0, ('x_2', 'y_5'): -90.0, ('x_2', 'x_0'): -4.0, ('x_2', 'x_1'): -4.0, ('x_3', 'y_2'): -36.0, ('x_3', 'y_3'): -54.0, ('x_3', 'y_4'): -72.0, ('x_3', 'y_5'): -90.0, ('x_3', 'x_0'): 36.0, ('x_3', 'x_1'): -4.0, ('x_3', 'x_2'): -4.0, ('x_4', 'y_2'): -36.0, ('x_4', 'y_3'): -54.0, ('x_4', 'y_4'): -72.0, ('x_4', 'y_5'): -90.0, ('x_4', 'x_0'): 36.0, ('x_4', 'x_1'): 36.0, ('x_4', 'x_2'): -4.0, ('x_4', 'x_3'): -4.0}, 0.0, 'BINARY')\n",
            "{'x_0': 1, 'x_1': 1, 'x_2': 1, 'x_3': 0, 'x_4': 0, 'y_2': 1, 'y_3': 0, 'y_4': 0, 'y_5': 0}\n",
            "Largest Clique: [0, 1, 2]\n",
            "Sample: {'x_0': 1, 'x_1': 1, 'x_2': 1, 'x_3': 0, 'x_4': 0, 'y_2': 1, 'y_3': 0, 'y_4': 0, 'y_5': 0}\n"
          ]
        }
      ]
    },
    {
      "cell_type": "code",
      "source": [
        "import networkx as nx # for making graphs\n",
        "import matplotlib.pyplot as plt # for ploting"
      ],
      "metadata": {
        "id": "13smivHtGDbD"
      },
      "execution_count": 80,
      "outputs": []
    },
    {
      "cell_type": "markdown",
      "source": [
        "# **A Function To Plot**"
      ],
      "metadata": {
        "id": "u25DXB357TSs"
      }
    },
    {
      "cell_type": "code",
      "source": [
        "def plot_graph_with_clique(graph, largest_clique):\n",
        "    G = nx.Graph()\n",
        "    N = len(graph)\n",
        "\n",
        "    # Add nodes\n",
        "    for i in range(N):\n",
        "        G.add_node(i)\n",
        "\n",
        "    # Add edges\n",
        "    for i in range(N):\n",
        "        for j in range(i + 1, N):\n",
        "            if graph[i][j] == 1:\n",
        "                G.add_edge(i, j)\n",
        "\n",
        "    # Set colors: red for clique nodes, blue for others\n",
        "    node_colors = ['red' if node in largest_clique else 'blue' for node in G.nodes()]\n",
        "\n",
        "    # Set sizes: larger size for clique nodes\n",
        "    node_sizes = [300 if node in largest_clique else 100 for node in G.nodes()]\n",
        "\n",
        "    # Draw the graph\n",
        "    pos = nx.spring_layout(G)\n",
        "    nx.draw(G, pos, with_labels=True, node_color=node_colors, node_size=node_sizes, edge_color='gray', font_weight='bold')\n",
        "\n",
        "    # Highlight the largest clique with a different color for edges\n",
        "    clique_edges = [(i, j) for i in largest_clique for j in largest_clique if i < j and graph[i][j] == 1]\n",
        "    nx.draw_networkx_edges(G, pos, edgelist=clique_edges, edge_color='red', width=2)\n",
        "\n",
        "    plt.title(\"Graph with Largest Clique Highlighted with red\")\n",
        "    plt.show()\n",
        "\n",
        "# Plot the graph with the largest clique highlighted\n",
        "plot_graph_with_clique(graph, largest_clique)\n"
      ],
      "metadata": {
        "colab": {
          "base_uri": "https://localhost:8080/",
          "height": 539
        },
        "id": "2kgCT1pqF9oo",
        "outputId": "7d69ac79-3db4-4ff9-e672-052d9eefeade"
      },
      "execution_count": 82,
      "outputs": [
        {
          "output_type": "display_data",
          "data": {
            "text/plain": [
              "<Figure size 640x480 with 1 Axes>"
            ],
            "image/png": "[encoded data removed]"
          },
          "metadata": {}
        }
      ]
    }
  ]
}